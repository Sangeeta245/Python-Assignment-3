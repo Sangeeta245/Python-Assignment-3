{
 "cells": [
  {
   "cell_type": "markdown",
   "id": "5d6857e4",
   "metadata": {},
   "source": [
    "### 1.1  Write a Python Program to implement your own myreduce() function which works exactly like Python's built-in function reduce()"
   ]
  },
  {
   "cell_type": "code",
   "execution_count": 1,
   "id": "d34f1e05",
   "metadata": {},
   "outputs": [],
   "source": [
    "def myreduce(func, list):\n",
    "    result = list[0]\n",
    "    for item in list[1:]:\n",
    "        result = func(result, item)\n",
    "    return result"
   ]
  },
  {
   "cell_type": "code",
   "execution_count": 2,
   "id": "da51e132",
   "metadata": {},
   "outputs": [],
   "source": [
    "def prod(x,y): \n",
    "    return x * y"
   ]
  },
  {
   "cell_type": "code",
   "execution_count": 3,
   "id": "80aba594",
   "metadata": {},
   "outputs": [
    {
     "name": "stdout",
     "output_type": "stream",
     "text": [
      "720\n"
     ]
    }
   ],
   "source": [
    "print (myreduce(prod,[1, 2, 3, 4, 5, 6]))"
   ]
  },
  {
   "cell_type": "markdown",
   "id": "b86a0640",
   "metadata": {},
   "source": [
    "### 1.2 Write a Python program to implement your own myfilter() function which works exactly like Python's built-in function filter()"
   ]
  },
  {
   "cell_type": "code",
   "execution_count": 4,
   "id": "3fefc0ff",
   "metadata": {},
   "outputs": [],
   "source": [
    "def myfilter(anyfunc, sequence):\n",
    "    result = []\n",
    "    for item in sequence:\n",
    "        if anyfunc(item):\n",
    "            result.append(item)\n",
    "    return result"
   ]
  },
  {
   "cell_type": "code",
   "execution_count": 5,
   "id": "93b361ae",
   "metadata": {},
   "outputs": [],
   "source": [
    "def ispos(x):\n",
    "    if (x >= 0): \n",
    "        return True\n",
    "    else: \n",
    "        return False"
   ]
  },
  {
   "cell_type": "code",
   "execution_count": 6,
   "id": "1cdc261c",
   "metadata": {},
   "outputs": [
    {
     "name": "stdout",
     "output_type": "stream",
     "text": [
      "[7, 5, 6, 1]\n"
     ]
    }
   ],
   "source": [
    "print(myfilter(ispos, [7,5,-2,6,1]))"
   ]
  },
  {
   "cell_type": "markdown",
   "id": "7ecc6988",
   "metadata": {},
   "source": [
    "### 2. Implement List comprehensions to produce the following lists.\n",
    "###          Write List comprehensions to produce the following lists."
   ]
  },
  {
   "cell_type": "markdown",
   "id": "e1210be0",
   "metadata": {},
   "source": [
    "#### ['x', 'xx', 'xxx', 'xxxx', 'y', 'yy', 'yyy', 'yyyy', 'z', 'zz', 'zzz', 'zzzz'] ['x', 'y', 'z', 'xx', 'yy', 'zz', 'xxx', 'yyy', 'zzz', 'xxxx', 'yyyy', 'zzzz'] [[2], [3], [4], [3], [4], [5], [4], [5], [6]] [[2, 3, 4, 5], [3, 4, 5, 6], [4, 5, 6, 7], [5, 6, 7, 8]] [(1, 1), (2, 1), (3, 1), (1, 2), (2, 2), (3, 2), (1, 3), (2, 3), (3, 3)]"
   ]
  },
  {
   "cell_type": "code",
   "execution_count": 7,
   "id": "51537fb0",
   "metadata": {},
   "outputs": [
    {
     "name": "stdout",
     "output_type": "stream",
     "text": [
      "['x', 'xx', 'xxx', 'xxxx', 'y', 'yy', 'yyy', 'yyyy', 'z', 'zz', 'zzz', 'zzzz']\n"
     ]
    }
   ],
   "source": [
    "list = [\"x\",\"y\",\"z\"]\n",
    "result = [i*n for i in list for n in range(1,5)]\n",
    "print(result)"
   ]
  },
  {
   "cell_type": "code",
   "execution_count": 8,
   "id": "206c0c6d",
   "metadata": {},
   "outputs": [
    {
     "name": "stdout",
     "output_type": "stream",
     "text": [
      "['x', 'y', 'z', 'xx', 'yy', 'zz', 'xxx', 'yyy', 'zzz', 'xxxx', 'yyyy', 'zzzz']\n"
     ]
    }
   ],
   "source": [
    "result = [i*n for i in range(1,5) for n in list]\n",
    "print(result)"
   ]
  },
  {
   "cell_type": "code",
   "execution_count": 9,
   "id": "22a2bdcc",
   "metadata": {},
   "outputs": [
    {
     "name": "stdout",
     "output_type": "stream",
     "text": [
      "[[2], [3], [4], [3], [4], [5], [4], [5], [6]]\n"
     ]
    }
   ],
   "source": [
    "num_list = [2,3,4]\n",
    "result = [ [i+n] for i in num_list for n in range(0,3)]\n",
    "print(result)"
   ]
  },
  {
   "cell_type": "code",
   "execution_count": 10,
   "id": "a32b5036",
   "metadata": {},
   "outputs": [
    {
     "name": "stdout",
     "output_type": "stream",
     "text": [
      "[[2, 3, 4, 5], [3, 4, 5, 6], [4, 5, 6, 7], [5, 6, 7, 8]]\n"
     ]
    }
   ],
   "source": [
    "num_list = [2,3,4,5]\n",
    "result = [[i+n for i in num_list] for n in range(0,4)]\n",
    "print(result)"
   ]
  },
  {
   "cell_type": "code",
   "execution_count": 11,
   "id": "07ee438c",
   "metadata": {},
   "outputs": [
    {
     "name": "stdout",
     "output_type": "stream",
     "text": [
      "[(1, 1), (2, 1), (3, 1), (1, 2), (2, 2), (3, 2), (1, 3), (2, 3), (3, 3)]\n"
     ]
    }
   ],
   "source": [
    "list=[1,2,3]\n",
    "result = [(b,a) for a in list for b in list]\n",
    "print(str(result))"
   ]
  }
 ],
 "metadata": {
  "kernelspec": {
   "display_name": "Python 3",
   "language": "python",
   "name": "python3"
  },
  "language_info": {
   "codemirror_mode": {
    "name": "ipython",
    "version": 3
   },
   "file_extension": ".py",
   "mimetype": "text/x-python",
   "name": "python",
   "nbconvert_exporter": "python",
   "pygments_lexer": "ipython3",
   "version": "3.8.8"
  }
 },
 "nbformat": 4,
 "nbformat_minor": 5
}
